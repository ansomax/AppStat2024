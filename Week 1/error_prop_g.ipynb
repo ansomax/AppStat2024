{
 "cells": [
  {
   "cell_type": "code",
   "execution_count": 6,
   "metadata": {},
   "outputs": [
    {
     "data": {
      "text/latex": [
       "$$g_{0} = \\frac{4 \\pi^{2} L}{T^{2}}$$"
      ],
      "text/plain": [
       "<IPython.core.display.Latex object>"
      ]
     },
     "metadata": {},
     "output_type": "display_data"
    },
    {
     "data": {
      "text/latex": [
       "$$g_{1} = \\frac{a \\left(\\frac{0.4 D^{2}}{D^{2} - r^{2}} + 1\\right)}{\\sin{\\left(b \\right)}}$$"
      ],
      "text/plain": [
       "<IPython.core.display.Latex object>"
      ]
     },
     "metadata": {},
     "output_type": "display_data"
    },
    {
     "data": {
      "text/latex": [
       "$$\\sigma_{g0} = \\sqrt{\\frac{64 \\pi^{4} L^{2} \\sigma_{T}^{2}}{T^{6}} + \\frac{16 \\pi^{4} \\sigma_{L}^{2}}{T^{4}}}$$"
      ],
      "text/plain": [
       "<IPython.core.display.Latex object>"
      ]
     },
     "metadata": {},
     "output_type": "display_data"
    },
    {
     "data": {
      "text/latex": [
       "$$\\sigma_{g1} = \\sqrt{\\frac{0.64 D^{4} a^{2} r^{2} \\sigma_{r}^{2}}{\\left(D^{2} - r^{2}\\right)^{4} \\sin^{2}{\\left(b \\right)}} + \\frac{0.64 a^{2} \\sigma_{D}^{2} \\left(- \\frac{D^{3}}{\\left(D^{2} - r^{2}\\right)^{2}} + \\frac{D}{D^{2} - r^{2}}\\right)^{2}}{\\sin^{2}{\\left(b \\right)}} + \\frac{a^{2} \\sigma_{b}^{2} \\left(\\frac{0.4 D^{2}}{D^{2} - r^{2}} + 1\\right)^{2} \\cos^{2}{\\left(b \\right)}}{\\sin^{4}{\\left(b \\right)}} + \\frac{\\sigma_{a}^{2} \\left(\\frac{0.4 D^{2}}{D^{2} - r^{2}} + 1\\right)^{2}}{\\sin^{2}{\\left(b \\right)}}}$$"
      ],
      "text/plain": [
       "<IPython.core.display.Latex object>"
      ]
     },
     "metadata": {},
     "output_type": "display_data"
    },
    {
     "ename": "NameError",
     "evalue": "name 'mu1' is not defined",
     "output_type": "error",
     "traceback": [
      "\u001b[0;31m---------------------------------------------------------------------------\u001b[0m",
      "\u001b[0;31mNameError\u001b[0m                                 Traceback (most recent call last)",
      "Cell \u001b[0;32mIn[6], line 43\u001b[0m\n\u001b[1;32m     40\u001b[0m fdg_1 \u001b[38;5;241m=\u001b[39m lambdify((a,da,b,db,D,dD,r,dr),dg_1)\n\u001b[1;32m     42\u001b[0m \u001b[38;5;66;03m# Define values and their errors\u001b[39;00m\n\u001b[0;32m---> 43\u001b[0m vL, vdL \u001b[38;5;241m=\u001b[39m \u001b[43mmu1\u001b[49m,sig1\n\u001b[1;32m     44\u001b[0m vT, vdT \u001b[38;5;241m=\u001b[39m mu2,sig2\n\u001b[1;32m     45\u001b[0m va, vda \u001b[38;5;241m=\u001b[39m mu3,sig3\n",
      "\u001b[0;31mNameError\u001b[0m: name 'mu1' is not defined"
     ]
    }
   ],
   "source": [
    "from IPython.core.display import Latex\n",
    "\n",
    "def lprint(*args,**kwargs):\n",
    "    \"\"\"Pretty print arguments as LaTeX using IPython display system \n",
    "    \n",
    "    Parameters\n",
    "    ----------\n",
    "    args : tuple \n",
    "        What to print (in LaTeX math mode)\n",
    "    kwargs : dict \n",
    "        optional keywords to pass to `display` \n",
    "    \"\"\"\n",
    "    \n",
    "    display(Latex('$$'+' '.join(args)+'$$'),**kwargs)\n",
    "\n",
    "# Import SymPy: \n",
    "from sympy import * \n",
    "    \n",
    "# Define variables:\n",
    "L,T,b,D,r,a = symbols(\"L, T, b, D, r, a\")\n",
    "dL,dT,db,dD,dr,da = symbols(\"sigma_L, sigma_T, sigma_b, sigma_D, sigma_r, sigma_a\")\n",
    "\n",
    "# g:\n",
    "# Define relations, and print:\n",
    "g_0 = L * (2*pi/T)**2\n",
    "g_1 = (a/sin(b))*(1 + (2/5)*(D**2)/(D**2 - r**2))\n",
    "lprint(latex(Eq(symbols('g_0'),g_0)))\n",
    "lprint(latex(Eq(symbols('g_1'),g_1)))\n",
    "\n",
    "# Calculate uncertainty and print:\n",
    "dg_0 = sqrt((g_0.diff(L) * dL)**2 + (g_0.diff(T) * dT)**2)\n",
    "lprint(latex(Eq(symbols('sigma_g0'), dg_0)))\n",
    "dg_1 = sqrt((g_1.diff(a) * da)**2 + (g_1.diff(b) * db)**2 + (g_1.diff(D) * dD)**2 + (g_1.diff(r) * dr)**2)\n",
    "lprint(latex(Eq(symbols('sigma_g1'), dg_1)))\n",
    "\n",
    "# Turn expression into numerical functions \n",
    "fg_0 = lambdify((L,T),g_0)\n",
    "fg_1 = lambdify((a,b,D,r),g_1)\n",
    "fdg_0 = lambdify((L,dL,T,dT),dg_0)\n",
    "fdg_1 = lambdify((a,da,b,db,D,dD,r,dr),dg_1)\n",
    "\n",
    "# Define values and their errors\n",
    "vL, vdL = mu1,sig1\n",
    "vT, vdT = mu2,sig2\n",
    "va, vda = mu3,sig3\n",
    "vb, vdb = mu4,sig4\n",
    "vD, vdD = mu5,sig5\n",
    "vr, vdr = mu6,sig6\n",
    "\n",
    "# Numerically evaluate expressions and print \n",
    "vg_0 = fg_0(vL,vT)\n",
    "vg_1 = fg_1(va,vb,vD,vr)\n",
    "vdg_0 = fdg_0(vL,vdL,vT,vdT)\n",
    "vdg_1 = fdg_1(va,vda,vb,vdb,vD,vdD,vr,vdr)\n",
    "lprint(fr'g_0 = ({vg_0:.1f} \\pm {vdg_0:.1f})\\,\\mathrm{{m}}')\n",
    "lprint(fr'g_1 = ({vg_1:.1f} \\pm {vdg_1:.1f})\\,\\mathrm{{m}}')"
   ]
  },
  {
   "cell_type": "code",
   "execution_count": null,
   "metadata": {},
   "outputs": [],
   "source": []
  }
 ],
 "metadata": {
  "kernelspec": {
   "display_name": "Python 3",
   "language": "python",
   "name": "python3"
  },
  "language_info": {
   "codemirror_mode": {
    "name": "ipython",
    "version": 3
   },
   "file_extension": ".py",
   "mimetype": "text/x-python",
   "name": "python",
   "nbconvert_exporter": "python",
   "pygments_lexer": "ipython3",
   "version": "3.13.0"
  }
 },
 "nbformat": 4,
 "nbformat_minor": 2
}
